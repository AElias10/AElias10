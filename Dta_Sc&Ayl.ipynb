{
  "nbformat": 4,
  "nbformat_minor": 0,
  "metadata": {
    "colab": {
      "provenance": [],
      "authorship_tag": "ABX9TyOonGEzYiuLRQiEoHQ0wxT+",
      "include_colab_link": true
    },
    "kernelspec": {
      "name": "python3",
      "display_name": "Python 3"
    },
    "language_info": {
      "name": "python"
    }
  },
  "cells": [
    {
      "cell_type": "markdown",
      "metadata": {
        "id": "view-in-github",
        "colab_type": "text"
      },
      "source": [
        "<a href=\"https://colab.research.google.com/github/AElias10/AElias10/blob/main/Dta_Sc%26Ayl.ipynb\" target=\"_parent\"><img src=\"https://colab.research.google.com/assets/colab-badge.svg\" alt=\"Open In Colab\"/></a>"
      ]
    },
    {
      "cell_type": "code",
      "execution_count": 3,
      "metadata": {
        "id": "A7MdeOZxMWd3"
      },
      "outputs": [],
      "source": [
        "nombre=input(\"ingrese nombre:\")\n",
        "edad=input(\"edad:\")\n",
        "direccion=input(\"direccion:\")\n",
        "telefono=input(\"telefono:\")\n",
        "dic={'nombre':nombre,'edad':edad,'direccion':direccion,'telefono':telefono}\n",
        "for i in dic:\n",
        "  print(dic[i])\n",
        "print(\"FIN\")"
      ]
    }
  ]
}