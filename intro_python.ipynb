{
  "nbformat": 4,
  "nbformat_minor": 0,
  "metadata": {
    "colab": {
      "provenance": [],
      "authorship_tag": "ABX9TyMc57RP2gjBScXb8QDeShQ3",
      "include_colab_link": true
    },
    "kernelspec": {
      "name": "python3",
      "display_name": "Python 3"
    },
    "language_info": {
      "name": "python"
    }
  },
  "cells": [
    {
      "cell_type": "markdown",
      "metadata": {
        "id": "view-in-github",
        "colab_type": "text"
      },
      "source": [
        "<a href=\"https://colab.research.google.com/github/AElias10/AElias10/blob/main/intro_python.ipynb\" target=\"_parent\"><img src=\"https://colab.research.google.com/assets/colab-badge.svg\" alt=\"Open In Colab\"/></a>"
      ]
    },
    {
      "cell_type": "markdown",
      "source": [
        "**Ejercicio 1: Determina si un número es divisible por 3 y por 5 💡** / TAREA"
      ],
      "metadata": {
        "id": "mPuihvcwcBml"
      }
    },
    {
      "cell_type": "code",
      "source": [
        "\n",
        "#EJERCICIO 1\n",
        "\n",
        "num=int(input(\"Ingrese un número:\"))\n",
        "\n",
        "rta=0\n",
        "div_1=3\n",
        "div_2=5\n",
        "rta_1=num/div_1\n",
        "rta_2=num/div_2\n",
        "\n",
        "if num % div_1==0:\n",
        "  print(\"El número\",num,\"es divisible por\",div_1)\n",
        "\n",
        "if num % div_2==0:\n",
        "  print(\"El número\",num,\"es divisible por\",div_2)\n",
        "\n",
        "if num % div_1==0 and num % div_2==0:\n",
        "  print(\"Es divisible por ambos\")\n",
        "\n",
        "\n"
      ],
      "metadata": {
        "colab": {
          "base_uri": "https://localhost:8080/"
        },
        "id": "KX0s8HqrH4Ip",
        "outputId": "e874c12d-895d-472d-aca3-9b2db39a052c"
      },
      "execution_count": 132,
      "outputs": [
        {
          "output_type": "stream",
          "name": "stdout",
          "text": [
            "Ingrese un número:15\n",
            "El número 15 es divisible por 3\n",
            "El número 15 es divisible por 5\n",
            "Es divisible por ambos\n"
          ]
        }
      ]
    },
    {
      "cell_type": "markdown",
      "source": [
        "Ejercicio 2: Calcula el residuo de la división de un número por 7 y verifica si es igual a 3"
      ],
      "metadata": {
        "id": "5-SfqHcFTc4a"
      }
    },
    {
      "cell_type": "code",
      "execution_count": 84,
      "metadata": {
        "colab": {
          "base_uri": "https://localhost:8080/"
        },
        "id": "dEqSRrcrPwYz",
        "outputId": "f15bd766-9a83-4ae9-bd8e-070d1d664157"
      },
      "outputs": [
        {
          "output_type": "stream",
          "name": "stdout",
          "text": [
            "Ingrese dividendo:7\n",
            "El resultado es: 1.0\n",
            "El resto es : 0 el cual es diferente a 3\n"
          ]
        }
      ],
      "source": [
        "#operadores\n",
        "\n",
        "# % modulo\n",
        "# ** exponente\n",
        "# != diferente\n",
        "\n",
        "\n",
        "#EJERCICIO 2\n",
        "\n",
        "#dividir por 7 y resto=3\n",
        "\n",
        "#divisor:nro q divide al dividendo\n",
        "\n",
        "#ejemplo nro 10,17,24\n",
        "\n",
        "#inicialización\n",
        "dividendo=0\n",
        "resto=0\n",
        "divisor=7\n",
        "\n",
        "\n",
        "dividendo=int(input(\"Ingrese dividendo:\"))\n",
        "rta=dividendo/divisor\n",
        "print(\"El resultado es:\",round(rta,2))\n",
        "resto=dividendo % divisor\n",
        "if resto==3:\n",
        "  print(\"El residuo es igual a: 3\")\n",
        "else:\n",
        "  print(\"El resto es :\",resto,\"el cual es diferente a 3\")\n",
        "\n",
        "\n",
        "\n"
      ]
    },
    {
      "cell_type": "markdown",
      "source": [
        "ejerc_2_intento_1"
      ],
      "metadata": {
        "id": "jmjENo-KTgii"
      }
    },
    {
      "cell_type": "code",
      "source": [
        "\n",
        "\n",
        "##------------------------------------------------------------------------------\n",
        "\n",
        "#EJERCICIO 1\n",
        "\n",
        "#número divisble por 3 y por 5\n",
        "\n",
        "num=0\n",
        "div_1=3\n",
        "div_2=5\n",
        "res_1=0\n",
        "res_2=0\n",
        "\n",
        "\n",
        "num=int((input(\"Ingrese un número:\")))\n",
        "\n",
        "if num % div_1==0:\n",
        "  res_1=num/div_1\n",
        "  print(\"El resultado es:\",res_1)\n",
        "  print(\"El número:\",num,\"es divisble por\",div_1)\n",
        "if num % div_2==0:\n",
        "  res_2=num/div_2\n",
        "  print(\"El resultado de dividir\",num,\"por\",div_1,\"es:\",res_1)\n",
        "  print(\"El número\",num,\"es divisible por\",div_2)\n",
        "  print(\"El resultado de dividir\",num,\"por\",div_1,\"es:\",res_2)\n",
        "if num % div_1==0 and num % div_2==0:\n",
        "  print(\"El número\",num,\"es divisible por ambos divisores\")\n",
        "else:\n",
        "  print(\"El número,\",num,\"no es divisible por ninguno de los dos divisores\")\n",
        "\n",
        "\n",
        "##------------------------------------------------------------------------------\n",
        "\n"
      ],
      "metadata": {
        "id": "1VxdEeSzTHf-"
      },
      "execution_count": null,
      "outputs": []
    },
    {
      "cell_type": "markdown",
      "source": [],
      "metadata": {
        "id": "TzMVYmmrTqvb"
      }
    },
    {
      "cell_type": "markdown",
      "source": [
        "**Ejercicio 3: Eleva un número al cuadrado, suma 10 y verifica si el resultado es mayor que 50  💡** (RECORDAR QUE EL CUADRADO SE ESCRIBE CON **)"
      ],
      "metadata": {
        "id": "2ilA2AS6cP28"
      }
    },
    {
      "cell_type": "code",
      "source": [
        "\n",
        "#EJERCICIO 3\n",
        "\n",
        "num=0\n",
        "suma=10\n",
        "res=50\n",
        "num=int(input(\"Ingrese un número:\"))\n",
        "if (num**2)+suma > res:\n",
        "  print(\"El resultado es:\",num**2,\"y es mayor a\",res)\n",
        "else:\n",
        "  print(\"El resultado es:\",num**2, \"y no es mayor a\",res)\n",
        "\n",
        "\n"
      ],
      "metadata": {
        "colab": {
          "base_uri": "https://localhost:8080/"
        },
        "id": "rV-jyf0-TqAa",
        "outputId": "28cc8ec9-7964-464c-8c59-79e4611fe133"
      },
      "execution_count": 137,
      "outputs": [
        {
          "output_type": "stream",
          "name": "stdout",
          "text": [
            "Ingrese un número:4\n",
            "El resultado es: 16 y no es mayor a 50\n"
          ]
        }
      ]
    },
    {
      "cell_type": "markdown",
      "source": [
        "**Ejercicio 4: 📊 Calcula el producto de dos números y verifica si el resultado es menor que 20**"
      ],
      "metadata": {
        "id": "HiixC8S1ckpu"
      }
    },
    {
      "cell_type": "code",
      "source": [
        "\n",
        "#EJERCICIO 4\n",
        "\n",
        "num_1=0\n",
        "num_2=0\n",
        "\n",
        "num_1=int(input(\"Ingrese un número:\"))\n",
        "num_2=int(input(\"Ingrese otro número:\"))\n",
        "prod=num_1*num_2\n",
        "if prod <20:\n",
        "  print(\"El resultado del producto de\",num_1,\"*\",num_2,\"es:\",prod,\"y es menor que 20\")\n",
        "else:\n",
        "  print(\"El resultado del producto de\",num_1,\"*\",num_2,\"es:\",prod,\"y es mayor que 20\")\n",
        "\n",
        "\n",
        "\n"
      ],
      "metadata": {
        "colab": {
          "base_uri": "https://localhost:8080/"
        },
        "id": "HoqMvLrgb72G",
        "outputId": "d6526055-5c19-4b5b-c272-7532cdfe6cc6"
      },
      "execution_count": 141,
      "outputs": [
        {
          "output_type": "stream",
          "name": "stdout",
          "text": [
            "Ingrese un número:4\n",
            "Ingrese otro número:3\n",
            "El resultado del producto de 4 * 3 es: 12 y es menor que 20\n"
          ]
        }
      ]
    },
    {
      "cell_type": "markdown",
      "source": [
        "Ejercicio 5: 🎲 Calcula el área de un círculo con radio 5 y verifica si es mayor que 50."
      ],
      "metadata": {
        "id": "r3Fhyr8zdCTl"
      }
    },
    {
      "cell_type": "code",
      "source": [
        "\n",
        "#EJERCICIO 5\n",
        "\n",
        "#Area= pi*r**2\n",
        "\n",
        "pi=3.14\n",
        "r=5\n",
        "print(\"Radio:\",r)\n",
        "area=0\n",
        "area=pi*r**2\n",
        "if area>50:\n",
        "  print(\"El área del círculo es:\",area,\"y es mayor que 50\")\n",
        "else:\n",
        "  print(\"El área del círculo es:\",area,\"y es menor a 50\")\n"
      ],
      "metadata": {
        "colab": {
          "base_uri": "https://localhost:8080/"
        },
        "id": "ynpO-rFfc-Fl",
        "outputId": "a22d4dab-ec2f-415e-c304-b94bfc62d356"
      },
      "execution_count": 183,
      "outputs": [
        {
          "output_type": "stream",
          "name": "stdout",
          "text": [
            "Radio: 2\n",
            "El área del círculo es: 12.56 y es menor a 50\n"
          ]
        }
      ]
    }
  ]
}