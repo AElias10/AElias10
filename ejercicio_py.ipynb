{
  "nbformat": 4,
  "nbformat_minor": 0,
  "metadata": {
    "colab": {
      "provenance": [],
      "authorship_tag": "ABX9TyPkpOlEdAP+OFm0Ur57PeHk",
      "include_colab_link": true
    },
    "kernelspec": {
      "name": "python3",
      "display_name": "Python 3"
    },
    "language_info": {
      "name": "python"
    }
  },
  "cells": [
    {
      "cell_type": "markdown",
      "metadata": {
        "id": "view-in-github",
        "colab_type": "text"
      },
      "source": [
        "<a href=\"https://colab.research.google.com/github/AElias10/AElias10/blob/main/ejercicio_py.ipynb\" target=\"_parent\"><img src=\"https://colab.research.google.com/assets/colab-badge.svg\" alt=\"Open In Colab\"/></a>"
      ]
    },
    {
      "cell_type": "code",
      "execution_count": 20,
      "metadata": {
        "id": "18VWk0pdftmc",
        "colab": {
          "base_uri": "https://localhost:8080/"
        },
        "outputId": "18c2099c-a217-4930-e559-6ac2fe575b27"
      },
      "outputs": [
        {
          "output_type": "stream",
          "name": "stdout",
          "text": [
            "Ingrese su edad:4\n",
            "cumplió: 1 años\n",
            "cumplió: 2 años\n",
            "cumplió: 3 años\n",
            "cumplió: 4 años\n"
          ]
        }
      ],
      "source": [
        "\n",
        "#Ejercicio Años\n",
        "edad=0\n",
        "\n",
        "edad=int(input(\"Ingrese su edad:\"))\n",
        "for i in range(0,edad):\n",
        "    print(\"cumplió:\",i+1,\"años\")\n",
        "\n",
        "\n",
        "\n",
        "\n",
        "\n",
        "\n",
        "\n",
        "\n",
        "\n",
        "\n",
        "\n",
        "\n",
        "\n",
        "\n",
        "\n",
        "\n",
        "\n",
        "\n",
        "\n",
        "\n",
        "\n",
        "\n",
        "\n",
        "\n",
        "\n",
        "\n",
        "\n",
        "\n",
        "\n",
        "\n",
        "\n",
        "\n",
        "\n",
        "\n",
        "\n"
      ]
    }
  ]
}