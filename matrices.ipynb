{
  "nbformat": 4,
  "nbformat_minor": 0,
  "metadata": {
    "colab": {
      "provenance": [],
      "authorship_tag": "ABX9TyPRQPeolr82ck54o/7jOIfW",
      "include_colab_link": true
    },
    "kernelspec": {
      "name": "python3",
      "display_name": "Python 3"
    },
    "language_info": {
      "name": "python"
    }
  },
  "cells": [
    {
      "cell_type": "markdown",
      "metadata": {
        "id": "view-in-github",
        "colab_type": "text"
      },
      "source": [
        "<a href=\"https://colab.research.google.com/github/AElias10/AElias10/blob/main/matrices.ipynb\" target=\"_parent\"><img src=\"https://colab.research.google.com/assets/colab-badge.svg\" alt=\"Open In Colab\"/></a>"
      ]
    },
    {
      "cell_type": "markdown",
      "source": [
        "# ***Matrices***"
      ],
      "metadata": {
        "id": "dPoH7HPREpdY"
      }
    },
    {
      "cell_type": "code",
      "execution_count": null,
      "metadata": {
        "id": "01ts4s1VElHH"
      },
      "outputs": [],
      "source": [
        "#intro a Numpy\n",
        "\n",
        "import numpy as np\n",
        "\n",
        "#array 1_Dimensión\n",
        "\n",
        "arreglo_1D=np.array([1,2,3,4,5])\n",
        "print(\"Array:\",arreglo_1D)\n",
        "\n",
        "#matrix 3x3 matrix=0\n",
        "\n",
        "matrix_zeros=np.zeros((3,3))\n",
        "print((\"\\nMatrix 3x3\\n\"),matrix_zeros)\n",
        "\n",
        "#matrix identidad 4x4\n",
        "matrix_4x4=np.eye(4)\n",
        "print(\"\\nMatrix identidad 4x4\\n\",matrix_4x4)\n",
        "\n",
        "#suma de dos matrices\n",
        "\n",
        "matrix_1=np.array([[1,2],[3,4]])\n",
        "matrix_2=np.array([[3,4],[5,6]])\n",
        "matrix_suma=np.add(matrix_1, matrix_2)\n",
        "print(\"\\nLa suma de las dos matrices da:\\n\",matrix_suma)\n",
        "\n",
        "#multilpicación de matrices\n",
        "matrix_mult=np.dot(matrix_1, matrix_2)\n",
        "print(\"\\nEl producto de las matrices da por resultado:\\n\",matrix_mult)"
      ]
    }
  ]
}