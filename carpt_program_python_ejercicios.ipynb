{
  "nbformat": 4,
  "nbformat_minor": 0,
  "metadata": {
    "colab": {
      "provenance": [],
      "authorship_tag": "ABX9TyN3UfMnJic7uGb9Q3t4vgp9",
      "include_colab_link": true
    },
    "kernelspec": {
      "name": "python3",
      "display_name": "Python 3"
    },
    "language_info": {
      "name": "python"
    }
  },
  "cells": [
    {
      "cell_type": "markdown",
      "metadata": {
        "id": "view-in-github",
        "colab_type": "text"
      },
      "source": [
        "<a href=\"https://colab.research.google.com/github/AElias10/AElias10/blob/main/carpt_program_python_ejercicios.ipynb\" target=\"_parent\"><img src=\"https://colab.research.google.com/assets/colab-badge.svg\" alt=\"Open In Colab\"/></a>"
      ]
    },
    {
      "cell_type": "code",
      "source": [
        "edad=0\n",
        "edad=int(input(\"Ingrese su edad:\"))\n",
        "if edad>=18 and edad<=60 :\n",
        "  print(\"Ud puede votar\")\n",
        "elif edad<18:\n",
        "      print(\"Ud es menor de edad, no puede votar\")\n",
        "elif edad>60:\n",
        "      print(\"Usted es mayor a 60 años, su voto es opcional\")\n",
        "      print(\"FIN\")\n",
        "\n"
      ],
      "metadata": {
        "colab": {
          "base_uri": "https://localhost:8080/"
        },
        "id": "MEYpuwRaY5M3",
        "outputId": "7123eef5-da06-4ef7-9689-af99d0293683"
      },
      "execution_count": 6,
      "outputs": [
        {
          "output_type": "stream",
          "name": "stdout",
          "text": [
            "Ingrese su edad:61\n",
            "Usted es mayor a 60 años, su voto es opcional\n",
            "FIN\n"
          ]
        }
      ]
    }
  ]
}