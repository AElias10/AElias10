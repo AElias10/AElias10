{
  "nbformat": 4,
  "nbformat_minor": 0,
  "metadata": {
    "colab": {
      "provenance": [],
      "authorship_tag": "ABX9TyPJ1jOaOTHirXC8z7TR8DKs",
      "include_colab_link": true
    },
    "kernelspec": {
      "name": "python3",
      "display_name": "Python 3"
    },
    "language_info": {
      "name": "python"
    }
  },
  "cells": [
    {
      "cell_type": "markdown",
      "metadata": {
        "id": "view-in-github",
        "colab_type": "text"
      },
      "source": [
        "<a href=\"https://colab.research.google.com/github/AElias10/AElias10/blob/main/list%26DataFrame%26/Dic.ipynb\" target=\"_parent\"><img src=\"https://colab.research.google.com/assets/colab-badge.svg\" alt=\"Open In Colab\"/></a>"
      ]
    },
    {
      "cell_type": "markdown",
      "source": [
        "**Ejercicio 1: Determina si un número es divisible por 3 y por 5 💡** / TAREA"
      ],
      "metadata": {
        "id": "mPuihvcwcBml"
      }
    },
    {
      "cell_type": "code",
      "source": [
        "\n",
        "#EJERCICIO 1\n",
        "\n",
        "num=int(input(\"Ingrese un número:\"))\n",
        "\n",
        "rta=0\n",
        "div_1=3\n",
        "div_2=5\n",
        "rta_1=num/div_1\n",
        "rta_2=num/div_2\n",
        "\n",
        "if num % div_1==0:\n",
        "  print(\"El número\",num,\"es divisible por\",div_1)\n",
        "\n",
        "if num % div_2==0:\n",
        "  print(\"El número\",num,\"es divisible por\",div_2)\n",
        "\n",
        "if num % div_1==0 and num % div_2==0:\n",
        "  print(\"Es divisible por ambos\")\n",
        "\n",
        "\n"
      ],
      "metadata": {
        "colab": {
          "base_uri": "https://localhost:8080/"
        },
        "id": "KX0s8HqrH4Ip",
        "outputId": "e874c12d-895d-472d-aca3-9b2db39a052c"
      },
      "execution_count": null,
      "outputs": [
        {
          "output_type": "stream",
          "name": "stdout",
          "text": [
            "Ingrese un número:15\n",
            "El número 15 es divisible por 3\n",
            "El número 15 es divisible por 5\n",
            "Es divisible por ambos\n"
          ]
        }
      ]
    },
    {
      "cell_type": "markdown",
      "source": [
        "Ejercicio 2: Calcula el residuo de la división de un número por 7 y verifica si es igual a 3"
      ],
      "metadata": {
        "id": "5-SfqHcFTc4a"
      }
    },
    {
      "cell_type": "code",
      "execution_count": null,
      "metadata": {
        "colab": {
          "base_uri": "https://localhost:8080/"
        },
        "id": "dEqSRrcrPwYz",
        "outputId": "f15bd766-9a83-4ae9-bd8e-070d1d664157"
      },
      "outputs": [
        {
          "output_type": "stream",
          "name": "stdout",
          "text": [
            "Ingrese dividendo:7\n",
            "El resultado es: 1.0\n",
            "El resto es : 0 el cual es diferente a 3\n"
          ]
        }
      ],
      "source": [
        "#operadores\n",
        "\n",
        "# % modulo\n",
        "# ** exponente\n",
        "# != diferente\n",
        "\n",
        "\n",
        "#EJERCICIO 2\n",
        "\n",
        "#dividir por 7 y resto=3\n",
        "\n",
        "#divisor:nro q divide al dividendo\n",
        "\n",
        "#ejemplo nro 10,17,24\n",
        "\n",
        "#inicialización\n",
        "dividendo=0\n",
        "resto=0\n",
        "divisor=7\n",
        "\n",
        "\n",
        "dividendo=int(input(\"Ingrese dividendo:\"))\n",
        "rta=dividendo/divisor\n",
        "print(\"El resultado es:\",round(rta,2))\n",
        "resto=dividendo % divisor\n",
        "if resto==3:\n",
        "  print(\"El residuo es igual a: 3\")\n",
        "else:\n",
        "  print(\"El resto es :\",resto,\"el cual es diferente a 3\")\n",
        "\n",
        "\n",
        "\n"
      ]
    },
    {
      "cell_type": "markdown",
      "source": [
        "**Ejercicio 3: Eleva un número al cuadrado, suma 10 y verifica si el resultado es mayor que 50  💡** (RECORDAR QUE EL CUADRADO SE ESCRIBE CON **)"
      ],
      "metadata": {
        "id": "2ilA2AS6cP28"
      }
    },
    {
      "cell_type": "code",
      "source": [
        "\n",
        "#EJERCICIO 3\n",
        "\n",
        "num=0\n",
        "suma=10\n",
        "res=50\n",
        "num=int(input(\"Ingrese un número:\"))\n",
        "if (num**2)+suma > res:\n",
        "  print(\"El resultado es:\",(num**2)+suma,\"y es mayor a\",res)\n",
        "else:\n",
        "  print(\"El resultado es:\",(num**2)+suma, \"y no es mayor a\",res)\n",
        "\n",
        "\n"
      ],
      "metadata": {
        "colab": {
          "base_uri": "https://localhost:8080/"
        },
        "id": "rV-jyf0-TqAa",
        "outputId": "83b7e702-af1b-48b6-80e4-7702691c8d2b"
      },
      "execution_count": null,
      "outputs": [
        {
          "output_type": "stream",
          "name": "stdout",
          "text": [
            "Ingrese un número:25\n",
            "El resultado es: 635 y es mayor a 50\n"
          ]
        }
      ]
    },
    {
      "cell_type": "markdown",
      "source": [
        "**Ejercicio 4: 📊 Calcula el producto de dos números y verifica si el resultado es menor que 20**"
      ],
      "metadata": {
        "id": "HiixC8S1ckpu"
      }
    },
    {
      "cell_type": "code",
      "source": [
        "\n",
        "#EJERCICIO 4\n",
        "\n",
        "num_1=0\n",
        "num_2=0\n",
        "\n",
        "num_1=int(input(\"Ingrese un número:\"))\n",
        "num_2=int(input(\"Ingrese otro número:\"))\n",
        "prod=num_1*num_2\n",
        "if prod <20:\n",
        "  print(\"El resultado del producto de\",num_1,\"*\",num_2,\"es:\",prod,\"y es menor que 20\")\n",
        "else:\n",
        "  print(\"El resultado del producto de\",num_1,\"*\",num_2,\"es:\",prod,\"y es mayor que 20\")\n",
        "\n",
        "\n",
        "\n"
      ],
      "metadata": {
        "colab": {
          "base_uri": "https://localhost:8080/"
        },
        "id": "HoqMvLrgb72G",
        "outputId": "6ce63387-462b-4ce7-9993-5dccb4a672f7"
      },
      "execution_count": null,
      "outputs": [
        {
          "output_type": "stream",
          "name": "stdout",
          "text": [
            "Ingrese un número:2\n",
            "Ingrese otro número:3\n",
            "El resultado del producto de 2 * 3 es: 6 y es menor que 20\n"
          ]
        }
      ]
    },
    {
      "cell_type": "markdown",
      "source": [
        "Ejercicio 5: 🎲 Calcula el área de un círculo con radio 5 y verifica si es mayor que 50."
      ],
      "metadata": {
        "id": "r3Fhyr8zdCTl"
      }
    },
    {
      "cell_type": "code",
      "source": [
        "\n",
        "#EJERCICIO 5\n",
        "\n",
        "#Area= pi*r**2\n",
        "\n",
        "pi=3.14\n",
        "r=5\n",
        "print(\"Radio:\",r)\n",
        "area=0\n",
        "area=pi*r**2\n",
        "if area>50:\n",
        "  print(\"El área del círculo es:\",area,\"y es mayor que 50\")\n",
        "else:\n",
        "  print(\"El área del círculo es:\",area,\"y es menor a 50\")\n"
      ],
      "metadata": {
        "colab": {
          "base_uri": "https://localhost:8080/"
        },
        "id": "ynpO-rFfc-Fl",
        "outputId": "4b0ebfb2-b7e4-4086-b7db-7c7e478b89d4"
      },
      "execution_count": null,
      "outputs": [
        {
          "output_type": "stream",
          "name": "stdout",
          "text": [
            "Radio: 5\n",
            "El área del círculo es: 78.5 y es mayor que 50\n"
          ]
        }
      ]
    },
    {
      "cell_type": "markdown",
      "source": [
        "FUNCIÓN// Ejercicio Doble Divertido"
      ],
      "metadata": {
        "id": "bYjvqD9YIVBB"
      }
    },
    {
      "cell_type": "code",
      "source": [
        "\n",
        "def doble(n1):\n",
        "  n1=n1*2\n",
        "  return n1\n",
        "\n",
        "num_doble=0\n",
        "n1=int(input(\"Ingrese un número:\"))\n",
        "num_doble= doble(n1) #se asigna a la variable num_doble\n",
        "                     #valor de funcion def doble(n1):\n",
        "print(num_doble)\n",
        "\n",
        "\n",
        "\n",
        "\n"
      ],
      "metadata": {
        "colab": {
          "base_uri": "https://localhost:8080/"
        },
        "id": "vSVjxrJPIUqb",
        "outputId": "1a23efe7-b76a-495d-9293-5fa36da0803f"
      },
      "execution_count": null,
      "outputs": [
        {
          "output_type": "stream",
          "name": "stdout",
          "text": [
            "Ingrese un número:4\n",
            "8\n"
          ]
        }
      ]
    },
    {
      "cell_type": "markdown",
      "source": [
        "¡Vamos a calcular el cuadrado de un número! Tu tarea es escribir una función que tome un número y devuelva su cuadrado."
      ],
      "metadata": {
        "id": "6i2hSpbAMgeb"
      }
    },
    {
      "cell_type": "code",
      "source": [
        "\n",
        "def calcular_cuadrado(num):\n",
        "  num=num**2\n",
        "\n",
        "\n",
        "\n",
        "num=int(input(\"Ingrese un número:\"))\n",
        "print(\"El resultado es:\",calcular_cuadrado(num))\n",
        "\n",
        "\n",
        "\n",
        "\n",
        "\n"
      ],
      "metadata": {
        "colab": {
          "base_uri": "https://localhost:8080/"
        },
        "id": "iem1tzKPMgNr",
        "outputId": "1a15512f-d703-4645-a466-730b56af1d18"
      },
      "execution_count": null,
      "outputs": [
        {
          "output_type": "stream",
          "name": "stdout",
          "text": [
            "Ingrese un número:2\n",
            "El resultado es: None\n"
          ]
        }
      ]
    },
    {
      "cell_type": "markdown",
      "source": [
        "Potencia del Cubo"
      ],
      "metadata": {
        "id": "kGvgQz6yqf7C"
      }
    },
    {
      "cell_type": "code",
      "source": [
        "\n",
        "#potencia del cubo\n",
        "\n",
        "\n",
        "def cubo(n3):\n",
        "  res=n3**3\n",
        "  return res\n",
        "\n",
        "n3=int(input(\"Ingrese un número:\"))\n",
        "print(\"El resultado es:\",cubo(n3))\n",
        "\n"
      ],
      "metadata": {
        "id": "hgGr_AL_qhM7"
      },
      "execution_count": null,
      "outputs": []
    },
    {
      "cell_type": "markdown",
      "source": [
        "***Pandas & Numpy***"
      ],
      "metadata": {
        "id": "vja5_j1UtqEL"
      }
    },
    {
      "cell_type": "code",
      "source": [
        "\n",
        "#Librería Numpy\n",
        "\n",
        "import pandas as pd\n",
        "import numpy as np\n",
        "import matplotlib.pyplot as plt\n",
        "\n",
        "\n",
        "# df.shape tamaño del dataframe\n",
        "# df.head() muestra las primeras 5 filas head(n) muestra las n filas\n",
        "# df.tail() muestra los 5 últimos  tail(n) últimas n filas\n",
        "#df.sort_values() orden ascendente //// descendente--> df.sort_values(\"variable\", ascending=False)\n",
        "#df[[\"columna_1\",\"columna_2\"]]\n",
        "#df[[\"fila_1\",\"fila_2\"]]\n",
        "#df[:n] --> devielve las primeras n filas\n",
        "#df.iloc[[4,10],[0,2]] columna 4 y 10 , fila 0 y 2\n",
        "#df[df[\"longitud_sepalo\"]>5 & (df[longitud_sepalo]>1.4)]\n",
        "#df[\"longitud_sepalo\"]-df[\"longitud_petalo\"]  #resta de columnas\n",
        "#df[\"ancho_sepalo\"].apply(lamda x: -x) convierte valores en (-)\n",
        "#df[\"ancho_sepalo\"].apply(lamda x: x**2) eleva al cuadrado\n",
        "#df.groupby(\"clase\")[\"ancho_petalo\"].mean() media\n",
        "#df_group.name=\",media_ancho_petalo\" mostrar--> df_group\n",
        "\n",
        "#import matplotlib.pyplot as plt\n",
        "#df_join [\"media_ancho_petalo\"].plot() #graphics\n",
        "\n",
        "\n",
        "\n",
        "#serie= pd.Series([\"1\",\"2\",\"3\"])\n",
        "#serie.name='Tabla'\n",
        "#serie\n",
        "df= pd.DataFrame({\"Calificación\":[\"\"],\"Calificación 2\":[\"\"],\"Calificación 3\":[\"\"],\"Promedio\":[\"\"]})\n",
        "df=df.append({\"Nombre\":\"Elías\"}, ignore_index=True)\n",
        "\n",
        "\n",
        "\n",
        "\n"
      ],
      "metadata": {
        "id": "1HbZHyT6tq0K"
      },
      "execution_count": null,
      "outputs": []
    },
    {
      "cell_type": "markdown",
      "source": [
        "EJERCICIOS LISTAS"
      ],
      "metadata": {
        "id": "WsPhSikyC2yf"
      }
    },
    {
      "cell_type": "markdown",
      "source": [
        "***NUMPY***"
      ],
      "metadata": {
        "id": "2abwh8o1oXh2"
      }
    },
    {
      "cell_type": "code",
      "source": [
        "\n",
        "import numpy as np\n",
        "#arrary 1D\n",
        "\n",
        "array=np.array=([1,2,3])\n",
        "print(\"El array es:\",array)\n",
        "print(\"----------------------------\")\n",
        "\n",
        "#matrix zeros\n",
        "\n",
        "matrix_zeros=np.zeros([3,3])\n",
        "print(\"\\nLa matriz es:\\n\",matrix_zeros)\n",
        "print(\"----------------------------\")\n",
        "\n",
        "#matrix identidad 4x4\n",
        "\n",
        "matrix_identidad=np.eye(4)\n",
        "print(\"\\nMatriz identidad:\\n\",matrix_identidad)\n",
        "\n",
        "print(\"----------------------------\")\n",
        "\n",
        "#suma de dos matrices\n",
        "\n",
        "print(\"\\nSuma de dos matrices:\\n\")\n",
        "matrix_1=np.array=([1,2,],[4,3])\n",
        "matrix_2=np.array=([9,4,],[3,1])\n",
        "matrix_addition=np.add(matrix_1,matrix_2)\n",
        "print(matrix_addition)\n",
        "print(\"----------------------------\")\n",
        "\n",
        "#otro método\n",
        "\n",
        "print(\"Otro método de suma de matrices\")\n",
        "matrix_c=np.array=([1,2],[4,8])\n",
        "matrix_d=np.array=([9,7],[8,3])\n",
        "matrix_addition_2=np.add(matrix_c,matrix_d)\n",
        "print(matrix_addition_2)\n",
        "\n",
        "#producto de matrices\n",
        "\n",
        "matrix_e=np.array=([1,2],[3,4])\n",
        "matrix_f=np.array=([5,6],[7,8])\n",
        "matrix_product=np.dot(matrix_e,matrix_f)\n",
        "print(matrix_product)\n",
        "\n",
        "\n",
        "\n"
      ],
      "metadata": {
        "id": "zX-WmgMQoXW-",
        "colab": {
          "base_uri": "https://localhost:8080/"
        },
        "outputId": "adcff369-232e-4f11-de3b-8e315e77b4df"
      },
      "execution_count": null,
      "outputs": [
        {
          "output_type": "stream",
          "name": "stdout",
          "text": [
            "El array es: [1, 2, 3]\n",
            "----------------------------\n",
            "\n",
            "La matriz es:\n",
            " [[0. 0. 0.]\n",
            " [0. 0. 0.]\n",
            " [0. 0. 0.]]\n",
            "----------------------------\n",
            "\n",
            "Matriz identidad:\n",
            " [[1. 0. 0. 0.]\n",
            " [0. 1. 0. 0.]\n",
            " [0. 0. 1. 0.]\n",
            " [0. 0. 0. 1.]]\n",
            "----------------------------\n",
            "\n",
            "Suma de dos matrices:\n",
            "\n",
            "[[10  6]\n",
            " [ 7  4]]\n",
            "----------------------------\n",
            "Otro método de suma de matrices\n",
            "[[10  9]\n",
            " [12 11]]\n",
            "[[19 22]\n",
            " [43 50]]\n"
          ]
        }
      ]
    },
    {
      "cell_type": "markdown",
      "source": [
        "DataFrames"
      ],
      "metadata": {
        "id": "QHLs0ywj14m6"
      }
    },
    {
      "cell_type": "code",
      "source": [
        "import pandas as pd\n",
        "\n",
        "#df[[\"columna_1\",\"columna_2\"]]\n",
        "#df[[\"fila_1\",\"fila_2\"]]\n",
        "\n",
        "#crear un DataFrame ej:\n",
        "planilla=[\"Nombre\",\"Apellido\",\"Nota 1\"]\n",
        "print(planilla)\n",
        "\n",
        "\n",
        "\n"
      ],
      "metadata": {
        "id": "C1k9ffzq14fx",
        "colab": {
          "base_uri": "https://localhost:8080/"
        },
        "outputId": "c1d011b4-5de6-423c-8c30-71333d03aa55"
      },
      "execution_count": null,
      "outputs": [
        {
          "output_type": "stream",
          "name": "stdout",
          "text": [
            "['Nombre', 'Apellido', 'Nota 1']\n"
          ]
        }
      ]
    },
    {
      "cell_type": "code",
      "source": [
        "\n",
        "#EJERCCIO 1.21 PDF\n",
        "\n",
        "#Crear una lista con los días de la semana\n",
        "#Eliminar de la lista el sábado y el\n",
        "#domingo\n",
        "#Mostrar el contenido de la lista\n",
        "\n",
        "list=[\"Lunes\",\"Martes\",\"Miercoles\",\"Jueves\",\"Viernes\",\"Sábado\",\"Domingo\"]\n",
        "list_2=[\"Enero\",\"Febrero\",\"Marzo\",\"Abril\",\"Mayo\",\"Junio\",\"Julio\"]\n",
        "print(list)\n",
        "print(list_2)\n",
        "\n",
        "#eliminar posit[5] luego para eliminar posit[6](\"este ahora esta en posit[5]\")\n",
        "#por eso se eliminan ambos con igual índice\n",
        "print(\"Eliminar elementos con función\",\"del list[]\")\n",
        "del list[5]\n",
        "del list[5]\n",
        "print(list)\n",
        "\n",
        "print(\"-----------------------------------------------------------------\")\n",
        "print(\"Otro Método pop()\")\n",
        "\n",
        "list_2.pop(6)\n",
        "list_2.pop(5)\n",
        "print(list_2)\n",
        "\n",
        "\n"
      ],
      "metadata": {
        "id": "HLdFpQSnC0tW",
        "outputId": "d4e308ef-cdfc-4a4e-9667-746353a682d1",
        "colab": {
          "base_uri": "https://localhost:8080/"
        }
      },
      "execution_count": null,
      "outputs": [
        {
          "output_type": "stream",
          "name": "stdout",
          "text": [
            "['Lunes', 'Martes', 'Miercoles', 'Jueves', 'Viernes', 'Sábado', 'Domingo']\n",
            "['Enero', 'Febrero', 'Marzo', 'Abril', 'Mayo', 'Junio', 'Julio']\n",
            "Eliminar elementos con función del list[]\n",
            "['Lunes', 'Martes', 'Miercoles', 'Jueves', 'Viernes']\n",
            "-----------------------------------------------------------------\n",
            "Otro Método pop()\n",
            "['Enero', 'Febrero', 'Marzo', 'Abril', 'Mayo']\n"
          ]
        }
      ]
    },
    {
      "cell_type": "markdown",
      "source": [
        "EJERCICIOS LISTAS"
      ],
      "metadata": {
        "id": "vj2fXVXqOLao"
      }
    },
    {
      "cell_type": "code",
      "source": [
        "\n",
        "#EJERCICIO 1.22 PDF\n",
        "\n",
        "#Crear una lista l1 con todos los días de la\n",
        "#semana\n",
        "#Imprimir la longitud de l1\n",
        "#Extender l1 con si misma\n",
        "#Imprimir la longitud de l1\n",
        "\n",
        "\n",
        "#list=[\"Lunes\",\"Martes\",\"Miercoles\",\"Jueves\",\"Viernes\",\"Sábado\",\"Domingo\"]\n",
        "#print(list)\n",
        "\n",
        "#print(\"El tamaño de la lista es:\",len(list))\n",
        "\n",
        "##OPERACIONES CON LISTAS ##\n",
        "\n",
        "l1=[4,5,6]\n",
        "l2=[9,4,2]\n",
        "l3=[]\n",
        "\n",
        "##SUMA\n",
        "l3=(zip(l1,l2))\n",
        "l4=[x1+x2 for (x1,x2) in l3]\n",
        "print(l4)\n",
        "\n",
        "\n",
        "\n"
      ],
      "metadata": {
        "id": "pdM42muAOJww",
        "outputId": "6749bc89-36ef-493d-dc8e-12a090a7a87f",
        "colab": {
          "base_uri": "https://localhost:8080/"
        }
      },
      "execution_count": null,
      "outputs": [
        {
          "output_type": "stream",
          "name": "stdout",
          "text": [
            "[13, 9, 8]\n"
          ]
        }
      ]
    },
    {
      "cell_type": "markdown",
      "source": [
        "EJERCICIO TUPLA\n"
      ],
      "metadata": {
        "id": "GNT88wPASWzo"
      }
    },
    {
      "cell_type": "code",
      "source": [
        "\n",
        "#EJERCICIO 1.26  PDF\n",
        "\n",
        "\n",
        "#Buscar día Domingo en tupla\n",
        "semana=(\"Lunes\",\"Martes\",\"Miércoles\",\"Jueves\",\"Viernes\",\"Sábado\",\"Domingo\")\n",
        "\n",
        "if \"Domingo\" in semana:\n",
        "  print(\"El día Domingo está en la tupla\")\n",
        "else:\n",
        "  print(\"El día Domingo no está en la tupla\")\n",
        "\n",
        "#recorrer e imprimir día x día\n",
        "for i in semana:\n",
        "  print(i)\n",
        "\n"
      ],
      "metadata": {
        "id": "J7PkwuZSSWdx",
        "outputId": "e3d30a14-78cf-424e-88a6-47b33d61bf42",
        "colab": {
          "base_uri": "https://localhost:8080/"
        }
      },
      "execution_count": null,
      "outputs": [
        {
          "output_type": "stream",
          "name": "stdout",
          "text": [
            "El día Domingo está en la tupla\n",
            "Lunes\n",
            "Martes\n",
            "Miercoles\n",
            "Jueves\n",
            "Viernes\n",
            "Sábado\n",
            "Domingo\n"
          ]
        }
      ]
    },
    {
      "cell_type": "markdown",
      "source": [
        "EJERCICIO DICCIONARIOS\n"
      ],
      "metadata": {
        "id": "aphZGmpRoPJ2"
      }
    },
    {
      "cell_type": "code",
      "source": [
        "\n",
        "#EJERCICIO 1.38 DICCIONARIOS\n",
        "\n",
        "#Crear una diccionario d con todos los\n",
        "#días de la semana poniendo como clave\n",
        "#las siete primeras letras del alfabeto\n",
        "#Imprimir el diccionario\n",
        "\n",
        "diccionario={\"Llave\":\"Valor\"}\n",
        "print(diccionario['Llave'])\n",
        "print(diccionario)\n",
        "\n",
        "\n",
        "\n",
        "dic={\"LUNES\":\"L\",\"MARTES\":\"M\",\"MIÉRCOLES\":\"MM\",\"JUEVES\":\"J\",\"VIERNES\":\"V\",\"SÁBADO\":\"S\",\"DOMINGO\":\"D\"}\n",
        "print(dic)\n",
        "print(dic[\"LUNES\"])\n",
        "\n",
        "#LONGITUD DEL DIC\n",
        "len(dic)\n",
        "print(\"La longitud del diccionario es:\",len(dic))\n",
        "\n",
        "\n",
        "\n",
        "\n",
        "\n",
        "\n",
        "\n"
      ],
      "metadata": {
        "id": "pZ4d-9RGXtMZ",
        "outputId": "954507e7-4a79-4044-eb6e-bcca048391a2",
        "colab": {
          "base_uri": "https://localhost:8080/"
        }
      },
      "execution_count": null,
      "outputs": [
        {
          "output_type": "stream",
          "name": "stdout",
          "text": [
            "Valor\n",
            "{'Llave': 'Valor'}\n",
            "{'LUNES': 'L', 'MARTES': 'M', 'MIÉRCOLES': 'MM', 'JUEVES': 'J', 'VIERNES': 'V', 'SÁBADO': 'S', 'DOMINGO': 'D'}\n",
            "L\n",
            "La longitud del diccionario es: 7\n"
          ]
        }
      ]
    },
    {
      "cell_type": "markdown",
      "source": [
        "EJERCICIO 1.44 PDF PROVINCIAS Y CAPITALES"
      ],
      "metadata": {
        "id": "TYiSa0RAZ9eB"
      }
    },
    {
      "cell_type": "code",
      "source": [
        "\n",
        "#EJERCICIO 1.44 PDF PROVINCIAS Y CAPITALES\n",
        "\n",
        "#Generar para cada provincia una tupla con el\n",
        "#nombre de la provincia, su capital, su población\n",
        "#y su PBI.\n",
        "#Armar un diccionario donde cada valor sea la\n",
        "#tupla de una provincia y la claves sea el\n",
        "#nombre de la provincia.\n",
        "#Mostrar para cada provincia su capital\n",
        "\n",
        "\n"
      ],
      "metadata": {
        "id": "m9Q3Hbz1Z9E6"
      },
      "execution_count": null,
      "outputs": []
    },
    {
      "cell_type": "markdown",
      "source": [
        "Tabla Agraria"
      ],
      "metadata": {
        "id": "Kpp0MyXPKPmH"
      }
    },
    {
      "cell_type": "code",
      "source": [
        "import numpy as np\n",
        "import matplotlib as lpt\n",
        "import pandas as pd\n",
        "\n",
        "df = pd.read_csv(\"tabla_agraria.csv\")\n",
        "df\n",
        "\n"
      ],
      "metadata": {
        "id": "KTM192vtKPNP",
        "colab": {
          "base_uri": "https://localhost:8080/",
          "height": 833
        },
        "outputId": "d66b8b93-d5bb-4794-c37f-43ece8dd00ba"
      },
      "execution_count": 2,
      "outputs": [
        {
          "output_type": "execute_result",
          "data": {
            "text/plain": [
              "                 Etiquetas de fila  HAS SEMBRADAS trigo  RINDE ESTIMADO  \\\n",
              "0           CONDORI,ALICIA ADELINA               1199.0           735.0   \n",
              "1       BONGIOVANNI, GERARDO PEDRO                 60.0            40.0   \n",
              "2         BRIZZOLA, GERARDO MIGUEL                 80.0            40.0   \n",
              "3             CAON, DANIEL ANTONIO                  NaN             NaN   \n",
              "4               CASALI, JORGE LUIS                 23.0            40.0   \n",
              "5        CASTAGNO, RICARDO EDMUNDO                 20.0            40.0   \n",
              "6          CESCHINI, ALDO Y MIGUEL                 50.0            30.0   \n",
              "7           CESCHINI, MIGUEL ANGEL                 20.0            35.0   \n",
              "8             COMPANIA DAB S.R.L.-                 20.0            30.0   \n",
              "9          DROVETTA, GERARDO MARIO                 35.0            30.0   \n",
              "10          FERNANDEZ, JULIO CESAR                  NaN             NaN   \n",
              "11               FERNANDEZ, MARCOS                  NaN             NaN   \n",
              "12            GALLI, CESAR ENRIQUE                 60.0            30.0   \n",
              "13           GAMBINI, EDGARDO ALDO                 17.0            40.0   \n",
              "14         GAMBINI, RUBEN NORBERTO                 17.0            40.0   \n",
              "15         Gentile, Alejandro Jose                 15.0            40.0   \n",
              "16  LOPEZ MIGUEL A.-LOPEZ JORGE A.                 36.0            30.0   \n",
              "17          Losada, Gustavo Adolfo                 20.0            30.0   \n",
              "18         MIGNACCO, OSCAR ALBERTO                149.0            35.0   \n",
              "19        MONSERRAT, MARCO ANTONIO                 17.0            40.0   \n",
              "20         PASCHETTA, SANDRA MARIA                400.0            30.0   \n",
              "21            PIPINO HERMANOS S.S.                 39.0            40.0   \n",
              "22           SARINA, CARLOS DANIEL                 38.0            35.0   \n",
              "23    SUC DE CARLETTI, ATILIO JUAN                 43.0            30.0   \n",
              "24            VERON ALDO Y ALBERTO                 40.0            30.0   \n",
              "\n",
              "    PRODUCCION  OBJETIVO ACOPIO  TN OBJETIVO ACOPIO  Suma de acopio real   \\\n",
              "0       3988.5           1700.0             2147.05              2366.212   \n",
              "1        240.0             50.0              120.00               202.391   \n",
              "2        320.0              0.0                0.00               283.687   \n",
              "3          NaN              NaN                 NaN               154.834   \n",
              "4         92.0            100.0               92.00                66.042   \n",
              "5         80.0            100.0               80.00                   NaN   \n",
              "6        150.0             70.0              105.00                21.116   \n",
              "7         70.0            100.0               70.00                30.947   \n",
              "8         60.0             50.0               30.00                   NaN   \n",
              "9        105.0            100.0              105.00                74.116   \n",
              "10         NaN              NaN                 NaN                34.390   \n",
              "11         NaN              NaN                 NaN                82.920   \n",
              "12       180.0             50.0               90.00               121.555   \n",
              "13        68.0            100.0               68.00                50.189   \n",
              "14        68.0            100.0               68.00                59.062   \n",
              "15        60.0            100.0               60.00                61.415   \n",
              "16       108.0            100.0              108.00               113.599   \n",
              "17        60.0            100.0               60.00                75.554   \n",
              "18       521.5             70.0              365.05               421.753   \n",
              "19        68.0            100.0               68.00                17.408   \n",
              "20      1200.0             10.0              120.00               271.761   \n",
              "21       156.0            100.0              156.00                   NaN   \n",
              "22       133.0            100.0              133.00                11.824   \n",
              "23       129.0            100.0              129.00               136.097   \n",
              "24       120.0            100.0              120.00                75.552   \n",
              "\n",
              "    Unnamed: 7  \n",
              "0          NaN  \n",
              "1          NaN  \n",
              "2          NaN  \n",
              "3          NaN  \n",
              "4          NaN  \n",
              "5    no sembro  \n",
              "6          NaN  \n",
              "7          NaN  \n",
              "8   no cosecho  \n",
              "9          NaN  \n",
              "10         NaN  \n",
              "11         NaN  \n",
              "12         NaN  \n",
              "13         NaN  \n",
              "14         NaN  \n",
              "15         NaN  \n",
              "16         NaN  \n",
              "17         NaN  \n",
              "18         NaN  \n",
              "19         NaN  \n",
              "20         NaN  \n",
              "21   no sembro  \n",
              "22         NaN  \n",
              "23         NaN  \n",
              "24         NaN  "
            ],
            "text/html": [
              "\n",
              "  <div id=\"df-1b7410d0-da6b-4ef9-9eb2-6b419a2d407d\" class=\"colab-df-container\">\n",
              "    <div>\n",
              "<style scoped>\n",
              "    .dataframe tbody tr th:only-of-type {\n",
              "        vertical-align: middle;\n",
              "    }\n",
              "\n",
              "    .dataframe tbody tr th {\n",
              "        vertical-align: top;\n",
              "    }\n",
              "\n",
              "    .dataframe thead th {\n",
              "        text-align: right;\n",
              "    }\n",
              "</style>\n",
              "<table border=\"1\" class=\"dataframe\">\n",
              "  <thead>\n",
              "    <tr style=\"text-align: right;\">\n",
              "      <th></th>\n",
              "      <th>Etiquetas de fila</th>\n",
              "      <th>HAS SEMBRADAS trigo</th>\n",
              "      <th>RINDE ESTIMADO</th>\n",
              "      <th>PRODUCCION</th>\n",
              "      <th>OBJETIVO ACOPIO</th>\n",
              "      <th>TN OBJETIVO ACOPIO</th>\n",
              "      <th>Suma de acopio real</th>\n",
              "      <th>Unnamed: 7</th>\n",
              "    </tr>\n",
              "  </thead>\n",
              "  <tbody>\n",
              "    <tr>\n",
              "      <th>0</th>\n",
              "      <td>CONDORI,ALICIA ADELINA</td>\n",
              "      <td>1199.0</td>\n",
              "      <td>735.0</td>\n",
              "      <td>3988.5</td>\n",
              "      <td>1700.0</td>\n",
              "      <td>2147.05</td>\n",
              "      <td>2366.212</td>\n",
              "      <td>NaN</td>\n",
              "    </tr>\n",
              "    <tr>\n",
              "      <th>1</th>\n",
              "      <td>BONGIOVANNI, GERARDO PEDRO</td>\n",
              "      <td>60.0</td>\n",
              "      <td>40.0</td>\n",
              "      <td>240.0</td>\n",
              "      <td>50.0</td>\n",
              "      <td>120.00</td>\n",
              "      <td>202.391</td>\n",
              "      <td>NaN</td>\n",
              "    </tr>\n",
              "    <tr>\n",
              "      <th>2</th>\n",
              "      <td>BRIZZOLA, GERARDO MIGUEL</td>\n",
              "      <td>80.0</td>\n",
              "      <td>40.0</td>\n",
              "      <td>320.0</td>\n",
              "      <td>0.0</td>\n",
              "      <td>0.00</td>\n",
              "      <td>283.687</td>\n",
              "      <td>NaN</td>\n",
              "    </tr>\n",
              "    <tr>\n",
              "      <th>3</th>\n",
              "      <td>CAON, DANIEL ANTONIO</td>\n",
              "      <td>NaN</td>\n",
              "      <td>NaN</td>\n",
              "      <td>NaN</td>\n",
              "      <td>NaN</td>\n",
              "      <td>NaN</td>\n",
              "      <td>154.834</td>\n",
              "      <td>NaN</td>\n",
              "    </tr>\n",
              "    <tr>\n",
              "      <th>4</th>\n",
              "      <td>CASALI, JORGE LUIS</td>\n",
              "      <td>23.0</td>\n",
              "      <td>40.0</td>\n",
              "      <td>92.0</td>\n",
              "      <td>100.0</td>\n",
              "      <td>92.00</td>\n",
              "      <td>66.042</td>\n",
              "      <td>NaN</td>\n",
              "    </tr>\n",
              "    <tr>\n",
              "      <th>5</th>\n",
              "      <td>CASTAGNO, RICARDO EDMUNDO</td>\n",
              "      <td>20.0</td>\n",
              "      <td>40.0</td>\n",
              "      <td>80.0</td>\n",
              "      <td>100.0</td>\n",
              "      <td>80.00</td>\n",
              "      <td>NaN</td>\n",
              "      <td>no sembro</td>\n",
              "    </tr>\n",
              "    <tr>\n",
              "      <th>6</th>\n",
              "      <td>CESCHINI, ALDO Y MIGUEL</td>\n",
              "      <td>50.0</td>\n",
              "      <td>30.0</td>\n",
              "      <td>150.0</td>\n",
              "      <td>70.0</td>\n",
              "      <td>105.00</td>\n",
              "      <td>21.116</td>\n",
              "      <td>NaN</td>\n",
              "    </tr>\n",
              "    <tr>\n",
              "      <th>7</th>\n",
              "      <td>CESCHINI, MIGUEL ANGEL</td>\n",
              "      <td>20.0</td>\n",
              "      <td>35.0</td>\n",
              "      <td>70.0</td>\n",
              "      <td>100.0</td>\n",
              "      <td>70.00</td>\n",
              "      <td>30.947</td>\n",
              "      <td>NaN</td>\n",
              "    </tr>\n",
              "    <tr>\n",
              "      <th>8</th>\n",
              "      <td>COMPANIA DAB S.R.L.-</td>\n",
              "      <td>20.0</td>\n",
              "      <td>30.0</td>\n",
              "      <td>60.0</td>\n",
              "      <td>50.0</td>\n",
              "      <td>30.00</td>\n",
              "      <td>NaN</td>\n",
              "      <td>no cosecho</td>\n",
              "    </tr>\n",
              "    <tr>\n",
              "      <th>9</th>\n",
              "      <td>DROVETTA, GERARDO MARIO</td>\n",
              "      <td>35.0</td>\n",
              "      <td>30.0</td>\n",
              "      <td>105.0</td>\n",
              "      <td>100.0</td>\n",
              "      <td>105.00</td>\n",
              "      <td>74.116</td>\n",
              "      <td>NaN</td>\n",
              "    </tr>\n",
              "    <tr>\n",
              "      <th>10</th>\n",
              "      <td>FERNANDEZ, JULIO CESAR</td>\n",
              "      <td>NaN</td>\n",
              "      <td>NaN</td>\n",
              "      <td>NaN</td>\n",
              "      <td>NaN</td>\n",
              "      <td>NaN</td>\n",
              "      <td>34.390</td>\n",
              "      <td>NaN</td>\n",
              "    </tr>\n",
              "    <tr>\n",
              "      <th>11</th>\n",
              "      <td>FERNANDEZ, MARCOS</td>\n",
              "      <td>NaN</td>\n",
              "      <td>NaN</td>\n",
              "      <td>NaN</td>\n",
              "      <td>NaN</td>\n",
              "      <td>NaN</td>\n",
              "      <td>82.920</td>\n",
              "      <td>NaN</td>\n",
              "    </tr>\n",
              "    <tr>\n",
              "      <th>12</th>\n",
              "      <td>GALLI, CESAR ENRIQUE</td>\n",
              "      <td>60.0</td>\n",
              "      <td>30.0</td>\n",
              "      <td>180.0</td>\n",
              "      <td>50.0</td>\n",
              "      <td>90.00</td>\n",
              "      <td>121.555</td>\n",
              "      <td>NaN</td>\n",
              "    </tr>\n",
              "    <tr>\n",
              "      <th>13</th>\n",
              "      <td>GAMBINI, EDGARDO ALDO</td>\n",
              "      <td>17.0</td>\n",
              "      <td>40.0</td>\n",
              "      <td>68.0</td>\n",
              "      <td>100.0</td>\n",
              "      <td>68.00</td>\n",
              "      <td>50.189</td>\n",
              "      <td>NaN</td>\n",
              "    </tr>\n",
              "    <tr>\n",
              "      <th>14</th>\n",
              "      <td>GAMBINI, RUBEN NORBERTO</td>\n",
              "      <td>17.0</td>\n",
              "      <td>40.0</td>\n",
              "      <td>68.0</td>\n",
              "      <td>100.0</td>\n",
              "      <td>68.00</td>\n",
              "      <td>59.062</td>\n",
              "      <td>NaN</td>\n",
              "    </tr>\n",
              "    <tr>\n",
              "      <th>15</th>\n",
              "      <td>Gentile, Alejandro Jose</td>\n",
              "      <td>15.0</td>\n",
              "      <td>40.0</td>\n",
              "      <td>60.0</td>\n",
              "      <td>100.0</td>\n",
              "      <td>60.00</td>\n",
              "      <td>61.415</td>\n",
              "      <td>NaN</td>\n",
              "    </tr>\n",
              "    <tr>\n",
              "      <th>16</th>\n",
              "      <td>LOPEZ MIGUEL A.-LOPEZ JORGE A.</td>\n",
              "      <td>36.0</td>\n",
              "      <td>30.0</td>\n",
              "      <td>108.0</td>\n",
              "      <td>100.0</td>\n",
              "      <td>108.00</td>\n",
              "      <td>113.599</td>\n",
              "      <td>NaN</td>\n",
              "    </tr>\n",
              "    <tr>\n",
              "      <th>17</th>\n",
              "      <td>Losada, Gustavo Adolfo</td>\n",
              "      <td>20.0</td>\n",
              "      <td>30.0</td>\n",
              "      <td>60.0</td>\n",
              "      <td>100.0</td>\n",
              "      <td>60.00</td>\n",
              "      <td>75.554</td>\n",
              "      <td>NaN</td>\n",
              "    </tr>\n",
              "    <tr>\n",
              "      <th>18</th>\n",
              "      <td>MIGNACCO, OSCAR ALBERTO</td>\n",
              "      <td>149.0</td>\n",
              "      <td>35.0</td>\n",
              "      <td>521.5</td>\n",
              "      <td>70.0</td>\n",
              "      <td>365.05</td>\n",
              "      <td>421.753</td>\n",
              "      <td>NaN</td>\n",
              "    </tr>\n",
              "    <tr>\n",
              "      <th>19</th>\n",
              "      <td>MONSERRAT, MARCO ANTONIO</td>\n",
              "      <td>17.0</td>\n",
              "      <td>40.0</td>\n",
              "      <td>68.0</td>\n",
              "      <td>100.0</td>\n",
              "      <td>68.00</td>\n",
              "      <td>17.408</td>\n",
              "      <td>NaN</td>\n",
              "    </tr>\n",
              "    <tr>\n",
              "      <th>20</th>\n",
              "      <td>PASCHETTA, SANDRA MARIA</td>\n",
              "      <td>400.0</td>\n",
              "      <td>30.0</td>\n",
              "      <td>1200.0</td>\n",
              "      <td>10.0</td>\n",
              "      <td>120.00</td>\n",
              "      <td>271.761</td>\n",
              "      <td>NaN</td>\n",
              "    </tr>\n",
              "    <tr>\n",
              "      <th>21</th>\n",
              "      <td>PIPINO HERMANOS S.S.</td>\n",
              "      <td>39.0</td>\n",
              "      <td>40.0</td>\n",
              "      <td>156.0</td>\n",
              "      <td>100.0</td>\n",
              "      <td>156.00</td>\n",
              "      <td>NaN</td>\n",
              "      <td>no sembro</td>\n",
              "    </tr>\n",
              "    <tr>\n",
              "      <th>22</th>\n",
              "      <td>SARINA, CARLOS DANIEL</td>\n",
              "      <td>38.0</td>\n",
              "      <td>35.0</td>\n",
              "      <td>133.0</td>\n",
              "      <td>100.0</td>\n",
              "      <td>133.00</td>\n",
              "      <td>11.824</td>\n",
              "      <td>NaN</td>\n",
              "    </tr>\n",
              "    <tr>\n",
              "      <th>23</th>\n",
              "      <td>SUC DE CARLETTI, ATILIO JUAN</td>\n",
              "      <td>43.0</td>\n",
              "      <td>30.0</td>\n",
              "      <td>129.0</td>\n",
              "      <td>100.0</td>\n",
              "      <td>129.00</td>\n",
              "      <td>136.097</td>\n",
              "      <td>NaN</td>\n",
              "    </tr>\n",
              "    <tr>\n",
              "      <th>24</th>\n",
              "      <td>VERON ALDO Y ALBERTO</td>\n",
              "      <td>40.0</td>\n",
              "      <td>30.0</td>\n",
              "      <td>120.0</td>\n",
              "      <td>100.0</td>\n",
              "      <td>120.00</td>\n",
              "      <td>75.552</td>\n",
              "      <td>NaN</td>\n",
              "    </tr>\n",
              "  </tbody>\n",
              "</table>\n",
              "</div>\n",
              "    <div class=\"colab-df-buttons\">\n",
              "\n",
              "  <div class=\"colab-df-container\">\n",
              "    <button class=\"colab-df-convert\" onclick=\"convertToInteractive('df-1b7410d0-da6b-4ef9-9eb2-6b419a2d407d')\"\n",
              "            title=\"Convert this dataframe to an interactive table.\"\n",
              "            style=\"display:none;\">\n",
              "\n",
              "  <svg xmlns=\"http://www.w3.org/2000/svg\" height=\"24px\" viewBox=\"0 -960 960 960\">\n",
              "    <path d=\"M120-120v-720h720v720H120Zm60-500h600v-160H180v160Zm220 220h160v-160H400v160Zm0 220h160v-160H400v160ZM180-400h160v-160H180v160Zm440 0h160v-160H620v160ZM180-180h160v-160H180v160Zm440 0h160v-160H620v160Z\"/>\n",
              "  </svg>\n",
              "    </button>\n",
              "\n",
              "  <style>\n",
              "    .colab-df-container {\n",
              "      display:flex;\n",
              "      gap: 12px;\n",
              "    }\n",
              "\n",
              "    .colab-df-convert {\n",
              "      background-color: #E8F0FE;\n",
              "      border: none;\n",
              "      border-radius: 50%;\n",
              "      cursor: pointer;\n",
              "      display: none;\n",
              "      fill: #1967D2;\n",
              "      height: 32px;\n",
              "      padding: 0 0 0 0;\n",
              "      width: 32px;\n",
              "    }\n",
              "\n",
              "    .colab-df-convert:hover {\n",
              "      background-color: #E2EBFA;\n",
              "      box-shadow: 0px 1px 2px rgba(60, 64, 67, 0.3), 0px 1px 3px 1px rgba(60, 64, 67, 0.15);\n",
              "      fill: #174EA6;\n",
              "    }\n",
              "\n",
              "    .colab-df-buttons div {\n",
              "      margin-bottom: 4px;\n",
              "    }\n",
              "\n",
              "    [theme=dark] .colab-df-convert {\n",
              "      background-color: #3B4455;\n",
              "      fill: #D2E3FC;\n",
              "    }\n",
              "\n",
              "    [theme=dark] .colab-df-convert:hover {\n",
              "      background-color: #434B5C;\n",
              "      box-shadow: 0px 1px 3px 1px rgba(0, 0, 0, 0.15);\n",
              "      filter: drop-shadow(0px 1px 2px rgba(0, 0, 0, 0.3));\n",
              "      fill: #FFFFFF;\n",
              "    }\n",
              "  </style>\n",
              "\n",
              "    <script>\n",
              "      const buttonEl =\n",
              "        document.querySelector('#df-1b7410d0-da6b-4ef9-9eb2-6b419a2d407d button.colab-df-convert');\n",
              "      buttonEl.style.display =\n",
              "        google.colab.kernel.accessAllowed ? 'block' : 'none';\n",
              "\n",
              "      async function convertToInteractive(key) {\n",
              "        const element = document.querySelector('#df-1b7410d0-da6b-4ef9-9eb2-6b419a2d407d');\n",
              "        const dataTable =\n",
              "          await google.colab.kernel.invokeFunction('convertToInteractive',\n",
              "                                                    [key], {});\n",
              "        if (!dataTable) return;\n",
              "\n",
              "        const docLinkHtml = 'Like what you see? Visit the ' +\n",
              "          '<a target=\"_blank\" href=https://colab.research.google.com/notebooks/data_table.ipynb>data table notebook</a>'\n",
              "          + ' to learn more about interactive tables.';\n",
              "        element.innerHTML = '';\n",
              "        dataTable['output_type'] = 'display_data';\n",
              "        await google.colab.output.renderOutput(dataTable, element);\n",
              "        const docLink = document.createElement('div');\n",
              "        docLink.innerHTML = docLinkHtml;\n",
              "        element.appendChild(docLink);\n",
              "      }\n",
              "    </script>\n",
              "  </div>\n",
              "\n",
              "\n",
              "<div id=\"df-a506d10c-c005-4714-a84b-e85d245ee854\">\n",
              "  <button class=\"colab-df-quickchart\" onclick=\"quickchart('df-a506d10c-c005-4714-a84b-e85d245ee854')\"\n",
              "            title=\"Suggest charts\"\n",
              "            style=\"display:none;\">\n",
              "\n",
              "<svg xmlns=\"http://www.w3.org/2000/svg\" height=\"24px\"viewBox=\"0 0 24 24\"\n",
              "     width=\"24px\">\n",
              "    <g>\n",
              "        <path d=\"M19 3H5c-1.1 0-2 .9-2 2v14c0 1.1.9 2 2 2h14c1.1 0 2-.9 2-2V5c0-1.1-.9-2-2-2zM9 17H7v-7h2v7zm4 0h-2V7h2v10zm4 0h-2v-4h2v4z\"/>\n",
              "    </g>\n",
              "</svg>\n",
              "  </button>\n",
              "\n",
              "<style>\n",
              "  .colab-df-quickchart {\n",
              "      --bg-color: #E8F0FE;\n",
              "      --fill-color: #1967D2;\n",
              "      --hover-bg-color: #E2EBFA;\n",
              "      --hover-fill-color: #174EA6;\n",
              "      --disabled-fill-color: #AAA;\n",
              "      --disabled-bg-color: #DDD;\n",
              "  }\n",
              "\n",
              "  [theme=dark] .colab-df-quickchart {\n",
              "      --bg-color: #3B4455;\n",
              "      --fill-color: #D2E3FC;\n",
              "      --hover-bg-color: #434B5C;\n",
              "      --hover-fill-color: #FFFFFF;\n",
              "      --disabled-bg-color: #3B4455;\n",
              "      --disabled-fill-color: #666;\n",
              "  }\n",
              "\n",
              "  .colab-df-quickchart {\n",
              "    background-color: var(--bg-color);\n",
              "    border: none;\n",
              "    border-radius: 50%;\n",
              "    cursor: pointer;\n",
              "    display: none;\n",
              "    fill: var(--fill-color);\n",
              "    height: 32px;\n",
              "    padding: 0;\n",
              "    width: 32px;\n",
              "  }\n",
              "\n",
              "  .colab-df-quickchart:hover {\n",
              "    background-color: var(--hover-bg-color);\n",
              "    box-shadow: 0 1px 2px rgba(60, 64, 67, 0.3), 0 1px 3px 1px rgba(60, 64, 67, 0.15);\n",
              "    fill: var(--button-hover-fill-color);\n",
              "  }\n",
              "\n",
              "  .colab-df-quickchart-complete:disabled,\n",
              "  .colab-df-quickchart-complete:disabled:hover {\n",
              "    background-color: var(--disabled-bg-color);\n",
              "    fill: var(--disabled-fill-color);\n",
              "    box-shadow: none;\n",
              "  }\n",
              "\n",
              "  .colab-df-spinner {\n",
              "    border: 2px solid var(--fill-color);\n",
              "    border-color: transparent;\n",
              "    border-bottom-color: var(--fill-color);\n",
              "    animation:\n",
              "      spin 1s steps(1) infinite;\n",
              "  }\n",
              "\n",
              "  @keyframes spin {\n",
              "    0% {\n",
              "      border-color: transparent;\n",
              "      border-bottom-color: var(--fill-color);\n",
              "      border-left-color: var(--fill-color);\n",
              "    }\n",
              "    20% {\n",
              "      border-color: transparent;\n",
              "      border-left-color: var(--fill-color);\n",
              "      border-top-color: var(--fill-color);\n",
              "    }\n",
              "    30% {\n",
              "      border-color: transparent;\n",
              "      border-left-color: var(--fill-color);\n",
              "      border-top-color: var(--fill-color);\n",
              "      border-right-color: var(--fill-color);\n",
              "    }\n",
              "    40% {\n",
              "      border-color: transparent;\n",
              "      border-right-color: var(--fill-color);\n",
              "      border-top-color: var(--fill-color);\n",
              "    }\n",
              "    60% {\n",
              "      border-color: transparent;\n",
              "      border-right-color: var(--fill-color);\n",
              "    }\n",
              "    80% {\n",
              "      border-color: transparent;\n",
              "      border-right-color: var(--fill-color);\n",
              "      border-bottom-color: var(--fill-color);\n",
              "    }\n",
              "    90% {\n",
              "      border-color: transparent;\n",
              "      border-bottom-color: var(--fill-color);\n",
              "    }\n",
              "  }\n",
              "</style>\n",
              "\n",
              "  <script>\n",
              "    async function quickchart(key) {\n",
              "      const quickchartButtonEl =\n",
              "        document.querySelector('#' + key + ' button');\n",
              "      quickchartButtonEl.disabled = true;  // To prevent multiple clicks.\n",
              "      quickchartButtonEl.classList.add('colab-df-spinner');\n",
              "      try {\n",
              "        const charts = await google.colab.kernel.invokeFunction(\n",
              "            'suggestCharts', [key], {});\n",
              "      } catch (error) {\n",
              "        console.error('Error during call to suggestCharts:', error);\n",
              "      }\n",
              "      quickchartButtonEl.classList.remove('colab-df-spinner');\n",
              "      quickchartButtonEl.classList.add('colab-df-quickchart-complete');\n",
              "    }\n",
              "    (() => {\n",
              "      let quickchartButtonEl =\n",
              "        document.querySelector('#df-a506d10c-c005-4714-a84b-e85d245ee854 button');\n",
              "      quickchartButtonEl.style.display =\n",
              "        google.colab.kernel.accessAllowed ? 'block' : 'none';\n",
              "    })();\n",
              "  </script>\n",
              "</div>\n",
              "\n",
              "  <div id=\"id_8cfa179c-a607-4bea-979f-d7e147394977\">\n",
              "    <style>\n",
              "      .colab-df-generate {\n",
              "        background-color: #E8F0FE;\n",
              "        border: none;\n",
              "        border-radius: 50%;\n",
              "        cursor: pointer;\n",
              "        display: none;\n",
              "        fill: #1967D2;\n",
              "        height: 32px;\n",
              "        padding: 0 0 0 0;\n",
              "        width: 32px;\n",
              "      }\n",
              "\n",
              "      .colab-df-generate:hover {\n",
              "        background-color: #E2EBFA;\n",
              "        box-shadow: 0px 1px 2px rgba(60, 64, 67, 0.3), 0px 1px 3px 1px rgba(60, 64, 67, 0.15);\n",
              "        fill: #174EA6;\n",
              "      }\n",
              "\n",
              "      [theme=dark] .colab-df-generate {\n",
              "        background-color: #3B4455;\n",
              "        fill: #D2E3FC;\n",
              "      }\n",
              "\n",
              "      [theme=dark] .colab-df-generate:hover {\n",
              "        background-color: #434B5C;\n",
              "        box-shadow: 0px 1px 3px 1px rgba(0, 0, 0, 0.15);\n",
              "        filter: drop-shadow(0px 1px 2px rgba(0, 0, 0, 0.3));\n",
              "        fill: #FFFFFF;\n",
              "      }\n",
              "    </style>\n",
              "    <button class=\"colab-df-generate\" onclick=\"generateWithVariable('df')\"\n",
              "            title=\"Generate code using this dataframe.\"\n",
              "            style=\"display:none;\">\n",
              "\n",
              "  <svg xmlns=\"http://www.w3.org/2000/svg\" height=\"24px\"viewBox=\"0 0 24 24\"\n",
              "       width=\"24px\">\n",
              "    <path d=\"M7,19H8.4L18.45,9,17,7.55,7,17.6ZM5,21V16.75L18.45,3.32a2,2,0,0,1,2.83,0l1.4,1.43a1.91,1.91,0,0,1,.58,1.4,1.91,1.91,0,0,1-.58,1.4L9.25,21ZM18.45,9,17,7.55Zm-12,3A5.31,5.31,0,0,0,4.9,8.1,5.31,5.31,0,0,0,1,6.5,5.31,5.31,0,0,0,4.9,4.9,5.31,5.31,0,0,0,6.5,1,5.31,5.31,0,0,0,8.1,4.9,5.31,5.31,0,0,0,12,6.5,5.46,5.46,0,0,0,6.5,12Z\"/>\n",
              "  </svg>\n",
              "    </button>\n",
              "    <script>\n",
              "      (() => {\n",
              "      const buttonEl =\n",
              "        document.querySelector('#id_8cfa179c-a607-4bea-979f-d7e147394977 button.colab-df-generate');\n",
              "      buttonEl.style.display =\n",
              "        google.colab.kernel.accessAllowed ? 'block' : 'none';\n",
              "\n",
              "      buttonEl.onclick = () => {\n",
              "        google.colab.notebook.generateWithVariable('df');\n",
              "      }\n",
              "      })();\n",
              "    </script>\n",
              "  </div>\n",
              "\n",
              "    </div>\n",
              "  </div>\n"
            ],
            "application/vnd.google.colaboratory.intrinsic+json": {
              "type": "dataframe",
              "variable_name": "df",
              "summary": "{\n  \"name\": \"df\",\n  \"rows\": 25,\n  \"fields\": [\n    {\n      \"column\": \"Etiquetas de fila\",\n      \"properties\": {\n        \"dtype\": \"string\",\n        \"num_unique_values\": 25,\n        \"samples\": [\n          \"COMPANIA DAB S.R.L.-\",\n          \"LOPEZ MIGUEL A.-LOPEZ JORGE A.\",\n          \"CONDORI,ALICIA ADELINA\"\n        ],\n        \"semantic_type\": \"\",\n        \"description\": \"\"\n      }\n    },\n    {\n      \"column\": \"HAS SEMBRADAS trigo\",\n      \"properties\": {\n        \"dtype\": \"number\",\n        \"std\": 256.96729456526265,\n        \"min\": 15.0,\n        \"max\": 1199.0,\n        \"num_unique_values\": 16,\n        \"samples\": [\n          1199.0,\n          60.0,\n          50.0\n        ],\n        \"semantic_type\": \"\",\n        \"description\": \"\"\n      }\n    },\n    {\n      \"column\": \"RINDE ESTIMADO\",\n      \"properties\": {\n        \"dtype\": \"number\",\n        \"std\": 149.31227626741168,\n        \"min\": 30.0,\n        \"max\": 735.0,\n        \"num_unique_values\": 4,\n        \"samples\": [\n          40.0,\n          35.0,\n          735.0\n        ],\n        \"semantic_type\": \"\",\n        \"description\": \"\"\n      }\n    },\n    {\n      \"column\": \"PRODUCCION\",\n      \"properties\": {\n        \"dtype\": \"number\",\n        \"std\": 847.4836090051934,\n        \"min\": 60.0,\n        \"max\": 3988.5,\n        \"num_unique_values\": 18,\n        \"samples\": [\n          3988.5,\n          240.0,\n          105.0\n        ],\n        \"semantic_type\": \"\",\n        \"description\": \"\"\n      }\n    },\n    {\n      \"column\": \"OBJETIVO ACOPIO\",\n      \"properties\": {\n        \"dtype\": \"number\",\n        \"std\": 346.5438510385675,\n        \"min\": 0.0,\n        \"max\": 1700.0,\n        \"num_unique_values\": 6,\n        \"samples\": [\n          1700.0,\n          50.0,\n          10.0\n        ],\n        \"semantic_type\": \"\",\n        \"description\": \"\"\n      }\n    },\n    {\n      \"column\": \"TN OBJETIVO ACOPIO\",\n      \"properties\": {\n        \"dtype\": \"number\",\n        \"std\": 441.33733135017036,\n        \"min\": 0.0,\n        \"max\": 2147.05,\n        \"num_unique_values\": 16,\n        \"samples\": [\n          2147.05,\n          120.0,\n          105.0\n        ],\n        \"semantic_type\": \"\",\n        \"description\": \"\"\n      }\n    },\n    {\n      \"column\": \"Suma de acopio real \",\n      \"properties\": {\n        \"dtype\": \"number\",\n        \"std\": 491.12447076505066,\n        \"min\": 11.824,\n        \"max\": 2366.212,\n        \"num_unique_values\": 22,\n        \"samples\": [\n          2366.212,\n          61.415,\n          34.39\n        ],\n        \"semantic_type\": \"\",\n        \"description\": \"\"\n      }\n    },\n    {\n      \"column\": \"Unnamed: 7\",\n      \"properties\": {\n        \"dtype\": \"category\",\n        \"num_unique_values\": 2,\n        \"samples\": [\n          \"no cosecho\",\n          \"no sembro\"\n        ],\n        \"semantic_type\": \"\",\n        \"description\": \"\"\n      }\n    }\n  ]\n}"
            }
          },
          "metadata": {},
          "execution_count": 2
        }
      ]
    },
    {
      "cell_type": "markdown",
      "source": [
        "Tabla Médica"
      ],
      "metadata": {
        "id": "0VXfpRdBjnUx"
      }
    },
    {
      "cell_type": "code",
      "source": [
        "\n",
        "import numpy as np\n",
        "import pandas as pd\n",
        "from sklearn.datasets import load_breast_cancer\n",
        "\n",
        "# Cargar el dataset\n",
        "\n",
        "cancer = load_breast_cancer()\n",
        "data = pd.DataFrame(data=cancer.data, columns=cancer.feature_names)\n",
        "# Asignar la columna de clase correctamente\n",
        "data['target'] = cancer.target\n",
        "\n",
        "# Recuento de clases antes del mapeo\n",
        "class_counts = data['target'].value_counts()\n",
        "print(\"Recuento de clases antes del mapeo:\")\n",
        "print(class_counts)\n",
        "\n",
        "# Crear una lista para almacenar los valores de target\n",
        "target_list = list(data[\"target\"])  # Forma más eficiente de obtener los valores\n",
        "\n",
        "print(target_list[:10])  # Mostrar los primeros 10 valores\n",
        "\n",
        "\n"
      ],
      "metadata": {
        "id": "eJz4HjrsjmuR",
        "outputId": "6732d7af-bf9f-4c02-85f9-be5f275b24ec",
        "colab": {
          "base_uri": "https://localhost:8080/"
        }
      },
      "execution_count": null,
      "outputs": [
        {
          "output_type": "stream",
          "name": "stdout",
          "text": [
            "Recuento de clases antes del mapeo:\n",
            "target\n",
            "1    357\n",
            "0    212\n",
            "Name: count, dtype: int64\n",
            "[0, 0, 0, 0, 0, 0, 0, 0, 0, 0]\n"
          ]
        }
      ]
    }
  ]
}