{
  "nbformat": 4,
  "nbformat_minor": 0,
  "metadata": {
    "colab": {
      "provenance": [],
      "authorship_tag": "ABX9TyNezkZtBjq2esF518Pei5Xs",
      "include_colab_link": true
    },
    "kernelspec": {
      "name": "python3",
      "display_name": "Python 3"
    },
    "language_info": {
      "name": "python"
    }
  },
  "cells": [
    {
      "cell_type": "markdown",
      "metadata": {
        "id": "view-in-github",
        "colab_type": "text"
      },
      "source": [
        "<a href=\"https://colab.research.google.com/github/AElias10/AElias10/blob/main/funciones%20y%20gr%C3%A1ficos.ipynb\" target=\"_parent\"><img src=\"https://colab.research.google.com/assets/colab-badge.svg\" alt=\"Open In Colab\"/></a>"
      ]
    },
    {
      "cell_type": "markdown",
      "source": [
        "Función Suma con variables input y constantes"
      ],
      "metadata": {
        "id": "yjm3u-xWTSH5"
      }
    },
    {
      "cell_type": "code",
      "execution_count": null,
      "metadata": {
        "colab": {
          "base_uri": "https://localhost:8080/"
        },
        "id": "ihZfRdi5MjQ7",
        "outputId": "601967db-0922-42a2-faa2-ab4b60c794f0"
      },
      "outputs": [
        {
          "output_type": "stream",
          "name": "stdout",
          "text": [
            "El resultado de la suma es: 35\n",
            "Ingrese primer número:9\n",
            "Ingrese segundo número:5\n",
            "14\n"
          ]
        }
      ],
      "source": [
        "\n",
        "#Teoría de Python\n",
        "\n",
        "#FUNCIONES\n",
        "\n",
        "def nombre_funcion(parametros):\n",
        "  #código de la función\n",
        "  return resultado\n",
        "\n",
        "def sumar(n1,n2):\n",
        "  resultado=n1+n2\n",
        "  return resultado\n",
        "\n",
        "#llamamos a la función sumar\n",
        "resultado_suma=sumar(30,5)\n",
        "#imprime resultado\n",
        "print(\"El resultado de la suma es:\",resultado_suma)\n",
        "\n",
        "#función sumar con valores input\n",
        "\n",
        "def resultado_sumar_2(m1,m2):\n",
        "  resultado_2=m1+m2\n",
        "  return resultado_2\n",
        "\n",
        "m1=int(input(\"Ingrese primer número:\"))\n",
        "m2=int(input(\"Ingrese segundo número:\"))\n",
        "res_final=resultado_sumar_2(m1,m2)\n",
        "print(res_final)\n",
        "\n",
        "\n",
        "\n",
        "\n",
        "\n"
      ]
    },
    {
      "cell_type": "markdown",
      "source": [
        "Función Doble de un número"
      ],
      "metadata": {
        "id": "cYwV2QgzTdSQ"
      }
    },
    {
      "cell_type": "code",
      "source": [
        "#doble de un número N\n",
        "\n",
        "def cal_doble(n1):\n",
        "  doble=n1*2\n",
        "  return doble\n",
        "\n",
        "n1=int(input(\"Ingrese un número:\"))\n",
        "print(\"El doble de \",n1,\"es:\",cal_doble(n1))\n",
        "\n",
        "\n"
      ],
      "metadata": {
        "colab": {
          "base_uri": "https://localhost:8080/"
        },
        "id": "iguKnj3JTeCo",
        "outputId": "de3eee6a-942a-4c6b-a958-5c4c1590cea7"
      },
      "execution_count": null,
      "outputs": [
        {
          "output_type": "stream",
          "name": "stdout",
          "text": [
            "Ingrese un número:16\n",
            "El doble de  16 es: 32\n"
          ]
        }
      ]
    },
    {
      "cell_type": "markdown",
      "source": [
        "Función Cuadrado de un número X"
      ],
      "metadata": {
        "id": "cF6QFs60UeCB"
      }
    },
    {
      "cell_type": "code",
      "source": [
        "\n",
        "#cuadrado de un número X\n",
        "\n",
        "def cuadrado(x1):\n",
        "    res=x1*x1\n",
        "    return res\n",
        "\n",
        "x1=int(input(\"Ingrese un número para hallar su potencia de 2 \"))\n",
        "cuadrado(x1)\n",
        "print(x1,\"al cuadrado es:\",cuadrado(x1))\n",
        "\n"
      ],
      "metadata": {
        "id": "qhNhmvOZUehY",
        "colab": {
          "base_uri": "https://localhost:8080/"
        },
        "outputId": "a1e91d1f-9c76-4075-95d0-c57587823b00"
      },
      "execution_count": null,
      "outputs": [
        {
          "output_type": "stream",
          "name": "stdout",
          "text": [
            "Ingrese un número para hallar su potencia de 2 4\n",
            "4 al cuadrado es: 16\n"
          ]
        }
      ]
    },
    {
      "cell_type": "markdown",
      "source": [
        "Función ZIP en listas"
      ],
      "metadata": {
        "id": "AO6QCTTDxl-f"
      }
    },
    {
      "cell_type": "code",
      "source": [
        "\n",
        "#Función ZIP\n",
        "\n",
        "list_1=[1,2,3]\n",
        "list_2=[\"a\",\"b\",\"c\"]\n",
        "\n",
        "#usamos ZIP p/ combinar listas\n",
        "\n",
        "res=zip(list_1, list_2)\n",
        "\n",
        "#mostrar resultado\n",
        "\n",
        "print((\"Resultado:\"),list(res))\n",
        "\n",
        "\n"
      ],
      "metadata": {
        "colab": {
          "base_uri": "https://localhost:8080/"
        },
        "id": "OuA8_2OJxmWX",
        "outputId": "d3aa3db9-6a3b-4998-fe2d-b2f4763f96b9"
      },
      "execution_count": 69,
      "outputs": [
        {
          "output_type": "stream",
          "name": "stdout",
          "text": [
            "Resultado: [(1, 'a'), (2, 'b'), (3, 'c')]\n"
          ]
        }
      ]
    },
    {
      "cell_type": "markdown",
      "source": [
        "Introducción a NUMPY"
      ],
      "metadata": {
        "id": "yCzWESZJynKw"
      }
    },
    {
      "cell_type": "code",
      "source": [
        "\n",
        "\n",
        "\n",
        "#DataFrame\n",
        "\n",
        "import pandas as pd\n",
        "\n",
        "#crear un dataframe de ejemplo\n",
        "\n",
        "datos={\"Nombre\":[\"Ana\",\"Juan\",\"María\",\"Pedro\",\"Sara\"],\n",
        "      \"Edad\":[25,30,35,40,45],\n",
        "       \"Oficio\":[\"Arquitecta\",\"Abogado\",\"Ingeniera Agrónoma\",\"Contador Público\",\"Escribana\"],\n",
        "       \"Sueldo Mensual\":[3500,2000,1800,4000,3400],\n",
        "       \"Sueldo Anual\":df[\"Sueldo Mensual\"]*12}\n",
        "df=pd.DataFrame(datos, index=[\"A\",\"B\",\"C\",\"D\",\"E\"])\n",
        "df\n",
        "\n",
        "#gráfico barras verticales\n",
        "\n",
        "import matplotlib.pyplot as plt\n",
        "\n",
        "fig, ax=plt.subplots()\n",
        "ax.bar([1,2,3],[3,2,1])\n",
        "plt.show()\n",
        "\n",
        "\n",
        "\n",
        "\n"
      ],
      "metadata": {
        "colab": {
          "base_uri": "https://localhost:8080/",
          "height": 777
        },
        "id": "-l4-3GVsynb_",
        "outputId": "d86c5aaf-da48-4d00-c328-a96a6d75b43a"
      },
      "execution_count": 132,
      "outputs": [
        {
          "output_type": "stream",
          "name": "stdout",
          "text": [
            "Array: [1 2 3 4 5]\n",
            "\n",
            "Matrix 3x3\n",
            " [[0. 0. 0.]\n",
            " [0. 0. 0.]\n",
            " [0. 0. 0.]]\n",
            "\n",
            "Matrix identidad 4x4\n",
            " [[1. 0. 0. 0.]\n",
            " [0. 1. 0. 0.]\n",
            " [0. 0. 1. 0.]\n",
            " [0. 0. 0. 1.]]\n",
            "\n",
            "La suma de las dos matrices da:\n",
            " [[ 4  6]\n",
            " [ 8 10]]\n",
            "\n",
            "El producto de las matrices da por resultado:\n",
            " [[13 16]\n",
            " [29 36]]\n"
          ]
        },
        {
          "output_type": "display_data",
          "data": {
            "text/plain": [
              "<Figure size 640x480 with 1 Axes>"
            ],
            "image/png": "[encoded data removed]"
          },
          "metadata": {}
        }
      ]
    },
    {
      "cell_type": "code",
      "source": [
        "#intro a Numpy\n",
        "\n",
        "import numpy as np\n",
        "\n",
        "#array 1_Dimensión\n",
        "\n",
        "arreglo_1D=np.array([1,2,3,4,5])\n",
        "print(\"Array:\",arreglo_1D)\n",
        "\n",
        "#matrix 3x3 matrix=0\n",
        "\n",
        "matrix_zeros=np.zeros((3,3))\n",
        "print((\"\\nMatrix 3x3\\n\"),matrix_zeros)\n",
        "\n",
        "#matrix identidad 4x4\n",
        "matrix_4x4=np.eye(4)\n",
        "print(\"\\nMatrix identidad 4x4\\n\",matrix_4x4)\n",
        "\n",
        "#suma de dos matrices\n",
        "\n",
        "matrix_1=np.array([[1,2],[3,4]])\n",
        "matrix_2=np.array([[3,4],[5,6]])\n",
        "matrix_suma=np.add(matrix_1, matrix_2)\n",
        "print(\"\\nLa suma de las dos matrices da:\\n\",matrix_suma)\n",
        "\n",
        "#multilpicación de matrices\n",
        "matrix_mult=np.dot(matrix_1, matrix_2)\n",
        "print(\"\\nEl producto de las matrices da por resultado:\\n\",matrix_mult)"
      ],
      "metadata": {
        "id": "oWkenLBIENCf"
      },
      "execution_count": null,
      "outputs": []
    }
  ]
}